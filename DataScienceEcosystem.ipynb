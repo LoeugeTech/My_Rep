{
 "cells": [
  {
   "cell_type": "markdown",
   "id": "da098595-6308-4c28-88e0-d0e8a8b9d043",
   "metadata": {},
   "source": [
    "# Data Science Tools and Ecosystem"
   ]
  },
  {
   "attachments": {},
   "cell_type": "markdown",
   "id": "90e40c56-c4d0-4cf3-b0ef-8b02438b8723",
   "metadata": {},
   "source": [
    "In this notebook, Data Science Tools and Ecosystem are summarized"
   ]
  },
  {
   "cell_type": "markdown",
   "id": "651d001d-c46d-4c35-87ab-d7265ecf639b",
   "metadata": {},
   "source": [
    "**Objectives**\n",
    "- List popular langauges for Data Science\n",
    "- List some of the libraries used for Data Science\n",
    "- List some of the Data Science tools\n",
    "- How to evaluate arithmetic expression in Python\n",
    "- Converting minutes to hours in Python"
   ]
  },
  {
   "cell_type": "markdown",
   "id": "0adc8926-f286-4c0a-9daf-a010677406aa",
   "metadata": {},
   "source": [
    "Some of the languages that Data Scientists use are:\n",
    "1. Python\n",
    "2. R\n",
    "3. Scala\n",
    "4. SQL\n",
    "5. JavaScript\n",
    "6. Java\n",
    "7. Julia"
   ]
  },
  {
   "cell_type": "markdown",
   "id": "787b08dd-bc0b-4f3c-ba09-2cb9b0cc8575",
   "metadata": {},
   "source": [
    "Some of the commonly used libraries used by Data Scientists include:\n",
    "- Pandas\n",
    "- Numpy\n",
    "- SciPy\n",
    "- Matplotlib\n",
    "- Scikit-learn\n",
    "- TensorFlow\n",
    "- Seaborn"
   ]
  },
  {
   "cell_type": "markdown",
   "id": "f14c22a5-e3f0-4d67-a329-8bef59babdd9",
   "metadata": {},
   "source": [
    "\n",
    "| Data Science Tools |\n",
    "|:--- |\n",
    "| MySQL |\n",
    "| PostgreSQL |\n",
    "| MongoDB |\n",
    "| Apache CouchDB |\n",
    "\n"
   ]
  },
  {
   "cell_type": "markdown",
   "id": "111936ef-84d7-4e52-8db7-d17059d76178",
   "metadata": {},
   "source": [
    "### Below are few examples of evaluating arithmetic expressions in Python"
   ]
  },
  {
   "cell_type": "code",
   "execution_count": 2,
   "id": "cb443f4f-39d6-4f15-87c4-807fc60bfa57",
   "metadata": {},
   "outputs": [
    {
     "data": {
      "text/plain": [
       "17"
      ]
     },
     "execution_count": 2,
     "metadata": {},
     "output_type": "execute_result"
    }
   ],
   "source": [
    "## This is a simple arithmetic expression to multiply then add integers\n",
    "(3*4) + 5"
   ]
  },
  {
   "cell_type": "code",
   "execution_count": 3,
   "id": "d731762b-c56a-445a-a741-38cee63a5673",
   "metadata": {},
   "outputs": [
    {
     "name": "stdout",
     "output_type": "stream",
     "text": [
      "200 minutes is equal to 3.3333333333333335\n"
     ]
    }
   ],
   "source": [
    "## This will convert 200 minutes to hours by dividing by 60\n",
    "def minutes_to_hours(minutes):\n",
    "    hours = minutes/60\n",
    "    return hours\n",
    "minutes = 200\n",
    "hours = minutes_to_hours(minutes)\n",
    "print(f\"{minutes} minutes is equal to {hours}\")"
   ]
  },
  {
   "cell_type": "markdown",
   "id": "7b4cdcc3-b3ea-46ef-ba06-799cd22fcbe7",
   "metadata": {},
   "source": [
    "## Author ##\n",
    "Eugene Loweh"
   ]
  },
  {
   "cell_type": "code",
   "execution_count": null,
   "id": "28a85632-b7bb-4cae-81c2-a88b0421a1c3",
   "metadata": {},
   "outputs": [],
   "source": []
  }
 ],
 "metadata": {
  "kernelspec": {
   "display_name": "Python 3 (ipykernel)",
   "language": "python",
   "name": "python3"
  },
  "language_info": {
   "codemirror_mode": {
    "name": "ipython",
    "version": 3
   },
   "file_extension": ".py",
   "mimetype": "text/x-python",
   "name": "python",
   "nbconvert_exporter": "python",
   "pygments_lexer": "ipython3",
   "version": "3.11.8"
  }
 },
 "nbformat": 4,
 "nbformat_minor": 5
}
